{
 "cells": [
  {
   "cell_type": "markdown",
   "metadata": {},
   "source": [
    "# ANOVA, MANOVA AND/OR KRUSKAL_WALLACE\n",
    "\n",
    "This notebook walks through the steps of testing the assumptions and then conducting:\n",
    "\n",
    "- MANOVA\n",
    "- ANOVA\n",
    "- KRUSKAL-WALLACE"
   ]
  },
  {
   "cell_type": "markdown",
   "metadata": {},
   "source": [
    "## Assumptions\n",
    "\n",
    "Both MANOVA and ANOVA require the data be normally distributed. To determine if our dataset is normally distributed we will:\n",
    "\n",
    "1. Obtain Summary Statistics\n",
    "2. Graph the dataset\n",
    "3. Measure Skewness and Kurtosis\n",
    "4. Transformation (if necessary)\n",
    "5. Chi Squares goodness of fit (fit to normal distribution)"
   ]
  },
  {
   "cell_type": "markdown",
   "metadata": {},
   "source": [
    "### Loading the data"
   ]
  },
  {
   "cell_type": "code",
   "execution_count": 201,
   "metadata": {},
   "outputs": [],
   "source": [
    "import pandas as pd\n",
    "import numpy as np\n",
    "import scipy.stats as stats\n",
    "import math\n",
    "import matplotlib.pyplot as plt\n",
    "%matplotlib inline\n",
    "plt.rcParams['figure.figsize'] = (10, 6)\n",
    "from statsmodels.graphics.gofplots import qqplot\n",
    "from cleanup import cleanREF as cref"
   ]
  },
  {
   "cell_type": "code",
   "execution_count": 178,
   "metadata": {},
   "outputs": [
    {
     "data": {
      "text/html": [
       "<div>\n",
       "<style scoped>\n",
       "    .dataframe tbody tr th:only-of-type {\n",
       "        vertical-align: middle;\n",
       "    }\n",
       "\n",
       "    .dataframe tbody tr th {\n",
       "        vertical-align: top;\n",
       "    }\n",
       "\n",
       "    .dataframe thead th {\n",
       "        text-align: right;\n",
       "    }\n",
       "</style>\n",
       "<table border=\"1\" class=\"dataframe\">\n",
       "  <thead>\n",
       "    <tr style=\"text-align: right;\">\n",
       "      <th></th>\n",
       "      <th>Embayment</th>\n",
       "      <th>Descriptor</th>\n",
       "      <th>Type 1</th>\n",
       "      <th>Type 2</th>\n",
       "      <th>P Lat</th>\n",
       "      <th>P Long</th>\n",
       "      <th>Lm</th>\n",
       "      <th>Lb</th>\n",
       "      <th>C</th>\n",
       "    </tr>\n",
       "  </thead>\n",
       "  <tbody>\n",
       "    <tr>\n",
       "      <td>0</td>\n",
       "      <td>Tamiahua Lagoon</td>\n",
       "      <td>Lagoon</td>\n",
       "      <td>Barrier Estuary</td>\n",
       "      <td>Lagoon</td>\n",
       "      <td>21°34'46.90\"N</td>\n",
       "      <td>97°32'50.12\"W</td>\n",
       "      <td>135</td>\n",
       "      <td>20346</td>\n",
       "      <td>0.006635211</td>\n",
       "    </tr>\n",
       "    <tr>\n",
       "      <td>1</td>\n",
       "      <td>Lagoon of Caratasca</td>\n",
       "      <td>Lagoon</td>\n",
       "      <td>Barrier Estuary</td>\n",
       "      <td>NaN</td>\n",
       "      <td>15°21'21.71\"N</td>\n",
       "      <td>83°50'7.78\"W</td>\n",
       "      <td>562</td>\n",
       "      <td>50805</td>\n",
       "      <td>0.011061903</td>\n",
       "    </tr>\n",
       "    <tr>\n",
       "      <td>2</td>\n",
       "      <td>Lake Illawarra</td>\n",
       "      <td>Lake</td>\n",
       "      <td>Barrier Estuary</td>\n",
       "      <td>COAST. PLAIN</td>\n",
       "      <td>34°31'21.44\"S</td>\n",
       "      <td>150°50'18.66\"E</td>\n",
       "      <td>414</td>\n",
       "      <td>8609</td>\n",
       "      <td>0.048089209</td>\n",
       "    </tr>\n",
       "    <tr>\n",
       "      <td>3</td>\n",
       "      <td>Pensacola Bay</td>\n",
       "      <td>Bay</td>\n",
       "      <td>Barrier Estuary</td>\n",
       "      <td>NaN</td>\n",
       "      <td>30°25'53.17\"N</td>\n",
       "      <td>87° 7'0.43\"W</td>\n",
       "      <td>1613</td>\n",
       "      <td>31981</td>\n",
       "      <td>0.050436196</td>\n",
       "    </tr>\n",
       "    <tr>\n",
       "      <td>4</td>\n",
       "      <td>San Diego Bay</td>\n",
       "      <td>Bay</td>\n",
       "      <td>Barrier Estuary</td>\n",
       "      <td>NaN</td>\n",
       "      <td>32°40'31.64\"N</td>\n",
       "      <td>117° 8'39.01\"W</td>\n",
       "      <td>1422</td>\n",
       "      <td>17172</td>\n",
       "      <td>0.082809224</td>\n",
       "    </tr>\n",
       "  </tbody>\n",
       "</table>\n",
       "</div>"
      ],
      "text/plain": [
       "             Embayment Descriptor           Type 1        Type 2  \\\n",
       "0      Tamiahua Lagoon     Lagoon  Barrier Estuary        Lagoon   \n",
       "1  Lagoon of Caratasca     Lagoon  Barrier Estuary           NaN   \n",
       "2      Lake Illawarra        Lake  Barrier Estuary  COAST. PLAIN   \n",
       "3        Pensacola Bay        Bay  Barrier Estuary           NaN   \n",
       "4        San Diego Bay        Bay  Barrier Estuary           NaN   \n",
       "\n",
       "            P Lat          P Long    Lm     Lb            C  \n",
       "0   21°34'46.90\"N   97°32'50.12\"W   135  20346  0.006635211  \n",
       "1   15°21'21.71\"N    83°50'7.78\"W   562  50805  0.011061903  \n",
       "2   34°31'21.44\"S  150°50'18.66\"E   414   8609  0.048089209  \n",
       "3   30°25'53.17\"N    87° 7'0.43\"W  1613  31981  0.050436196  \n",
       "4   32°40'31.64\"N  117° 8'39.01\"W  1422  17172  0.082809224  "
      ]
     },
     "execution_count": 178,
     "metadata": {},
     "output_type": "execute_result"
    }
   ],
   "source": [
    "df_o = pd.read_csv('./EmbaymentData_Basic1.csv', header=0)\n",
    "df = df_o\n",
    "df.head()"
   ]
  },
  {
   "cell_type": "code",
   "execution_count": 179,
   "metadata": {},
   "outputs": [
    {
     "data": {
      "text/plain": [
       "Embayment     object\n",
       "Descriptor    object\n",
       "Type 1        object\n",
       "Type 2        object\n",
       "P Lat         object\n",
       "P Long        object\n",
       "Lm             int64\n",
       "Lb             int64\n",
       "C             object\n",
       "dtype: object"
      ]
     },
     "execution_count": 179,
     "metadata": {},
     "output_type": "execute_result"
    }
   ],
   "source": [
    "df.dtypes"
   ]
  },
  {
   "cell_type": "markdown",
   "metadata": {},
   "source": [
    "***In the above, C is listed as an object (factor in R), however this should be stored as a float. We will convert it to a float.***"
   ]
  },
  {
   "cell_type": "code",
   "execution_count": 180,
   "metadata": {},
   "outputs": [],
   "source": [
    "df = df[df.loc[:,'C'].str.contains('#REF')==False]\n",
    "if df.loc[:,'C'].dtype is not float:\n",
    "    df.loc[:,'C'] = df.loc[:,'C'].astype(float)"
   ]
  },
  {
   "cell_type": "markdown",
   "metadata": {},
   "source": [
    "# Summary Statistics and Basic Histogram"
   ]
  },
  {
   "cell_type": "code",
   "execution_count": 181,
   "metadata": {},
   "outputs": [
    {
     "data": {
      "text/html": [
       "<div>\n",
       "<style scoped>\n",
       "    .dataframe tbody tr th:only-of-type {\n",
       "        vertical-align: middle;\n",
       "    }\n",
       "\n",
       "    .dataframe tbody tr th {\n",
       "        vertical-align: top;\n",
       "    }\n",
       "\n",
       "    .dataframe thead th {\n",
       "        text-align: right;\n",
       "    }\n",
       "</style>\n",
       "<table border=\"1\" class=\"dataframe\">\n",
       "  <thead>\n",
       "    <tr style=\"text-align: right;\">\n",
       "      <th></th>\n",
       "      <th>Lm</th>\n",
       "      <th>Lb</th>\n",
       "      <th>C</th>\n",
       "    </tr>\n",
       "  </thead>\n",
       "  <tbody>\n",
       "    <tr>\n",
       "      <td>count</td>\n",
       "      <td>108.000000</td>\n",
       "      <td>108.000000</td>\n",
       "      <td>108.000000</td>\n",
       "    </tr>\n",
       "    <tr>\n",
       "      <td>mean</td>\n",
       "      <td>16037.518519</td>\n",
       "      <td>28705.351852</td>\n",
       "      <td>0.567908</td>\n",
       "    </tr>\n",
       "    <tr>\n",
       "      <td>std</td>\n",
       "      <td>18544.529801</td>\n",
       "      <td>22834.805629</td>\n",
       "      <td>0.498723</td>\n",
       "    </tr>\n",
       "    <tr>\n",
       "      <td>min</td>\n",
       "      <td>135.000000</td>\n",
       "      <td>2605.000000</td>\n",
       "      <td>0.006635</td>\n",
       "    </tr>\n",
       "    <tr>\n",
       "      <td>25%</td>\n",
       "      <td>2550.250000</td>\n",
       "      <td>12320.000000</td>\n",
       "      <td>0.154916</td>\n",
       "    </tr>\n",
       "    <tr>\n",
       "      <td>50%</td>\n",
       "      <td>8373.000000</td>\n",
       "      <td>22339.500000</td>\n",
       "      <td>0.415416</td>\n",
       "    </tr>\n",
       "    <tr>\n",
       "      <td>75%</td>\n",
       "      <td>23876.000000</td>\n",
       "      <td>40376.500000</td>\n",
       "      <td>0.896912</td>\n",
       "    </tr>\n",
       "    <tr>\n",
       "      <td>max</td>\n",
       "      <td>80096.000000</td>\n",
       "      <td>120752.000000</td>\n",
       "      <td>2.609228</td>\n",
       "    </tr>\n",
       "  </tbody>\n",
       "</table>\n",
       "</div>"
      ],
      "text/plain": [
       "                 Lm             Lb           C\n",
       "count    108.000000     108.000000  108.000000\n",
       "mean   16037.518519   28705.351852    0.567908\n",
       "std    18544.529801   22834.805629    0.498723\n",
       "min      135.000000    2605.000000    0.006635\n",
       "25%     2550.250000   12320.000000    0.154916\n",
       "50%     8373.000000   22339.500000    0.415416\n",
       "75%    23876.000000   40376.500000    0.896912\n",
       "max    80096.000000  120752.000000    2.609228"
      ]
     },
     "execution_count": 181,
     "metadata": {},
     "output_type": "execute_result"
    }
   ],
   "source": [
    "df.describe()"
   ]
  },
  {
   "cell_type": "code",
   "execution_count": 184,
   "metadata": {},
   "outputs": [
    {
     "data": {
      "image/png": "[encoded data removed]",
      "text/plain": [
       "<Figure size 720x432 with 3 Axes>"
      ]
     },
     "metadata": {
      "needs_background": "light"
     },
     "output_type": "display_data"
    }
   ],
   "source": [
    "fig, (ax1, ax2, ax3) = plt.subplots(3)\n",
    "\n",
    "ax1.hist(df['Lm'], label='Lm')\n",
    "ax1.legend()\n",
    "\n",
    "ax2.hist(df['Lb'], label='Lm')\n",
    "ax2.legend()\n",
    "\n",
    "ax3.hist(df['C'], label = 'C')\n",
    "ax3.legend()\n",
    "\n",
    "plt.show()"
   ]
  },
  {
   "cell_type": "markdown",
   "metadata": {},
   "source": [
    "# Skewness and Kurtosis\n",
    "\n",
    "Now that we have observed these graphically it is time to measure skewness and kurtosis."
   ]
  },
  {
   "cell_type": "code",
   "execution_count": 185,
   "metadata": {},
   "outputs": [
    {
     "data": {
      "text/plain": [
       "array([1.62707357, 1.4641885 , 1.21917356])"
      ]
     },
     "execution_count": 185,
     "metadata": {},
     "output_type": "execute_result"
    }
   ],
   "source": [
    "skew = stats.skew(df.loc[:, ( 'Lm', 'Lb', 'C')])\n",
    "skew"
   ]
  },
  {
   "cell_type": "code",
   "execution_count": 186,
   "metadata": {},
   "outputs": [
    {
     "data": {
      "text/plain": [
       "array([2.23731933, 2.26856731, 1.86164852])"
      ]
     },
     "execution_count": 186,
     "metadata": {},
     "output_type": "execute_result"
    }
   ],
   "source": [
    "kurt = stats.kurtosis(df.loc[:, ('Lm', 'Lb', 'C')])\n",
    "kurt"
   ]
  },
  {
   "cell_type": "markdown",
   "metadata": {},
   "source": [
    "# Transformation\n",
    "\n",
    "The data is right-tailed, so we will perform a log transformation and then reassess normality."
   ]
  },
  {
   "cell_type": "code",
   "execution_count": 190,
   "metadata": {},
   "outputs": [],
   "source": [
    "dft = df.loc[:, ('Embayment', 'Type 1', 'Lm', 'Lb', 'C')]"
   ]
  },
  {
   "cell_type": "code",
   "execution_count": 191,
   "metadata": {},
   "outputs": [],
   "source": [
    "dft['Lm'] = dft['Lm'].apply(math.log)\n",
    "dft['Lb'] = dft['Lb'].apply(math.log)\n",
    "dft['C'] = dft['C'].apply(math.log)"
   ]
  },
  {
   "cell_type": "code",
   "execution_count": 193,
   "metadata": {},
   "outputs": [
    {
     "data": {
      "text/html": [
       "<div>\n",
       "<style scoped>\n",
       "    .dataframe tbody tr th:only-of-type {\n",
       "        vertical-align: middle;\n",
       "    }\n",
       "\n",
       "    .dataframe tbody tr th {\n",
       "        vertical-align: top;\n",
       "    }\n",
       "\n",
       "    .dataframe thead th {\n",
       "        text-align: right;\n",
       "    }\n",
       "</style>\n",
       "<table border=\"1\" class=\"dataframe\">\n",
       "  <thead>\n",
       "    <tr style=\"text-align: right;\">\n",
       "      <th></th>\n",
       "      <th>Lm</th>\n",
       "      <th>Lb</th>\n",
       "      <th>C</th>\n",
       "    </tr>\n",
       "  </thead>\n",
       "  <tbody>\n",
       "    <tr>\n",
       "      <td>count</td>\n",
       "      <td>108.000000</td>\n",
       "      <td>108.000000</td>\n",
       "      <td>108.000000</td>\n",
       "    </tr>\n",
       "    <tr>\n",
       "      <td>mean</td>\n",
       "      <td>8.877459</td>\n",
       "      <td>9.952202</td>\n",
       "      <td>-1.074743</td>\n",
       "    </tr>\n",
       "    <tr>\n",
       "      <td>std</td>\n",
       "      <td>1.458685</td>\n",
       "      <td>0.833088</td>\n",
       "      <td>1.174866</td>\n",
       "    </tr>\n",
       "    <tr>\n",
       "      <td>min</td>\n",
       "      <td>4.905275</td>\n",
       "      <td>7.865188</td>\n",
       "      <td>-5.015365</td>\n",
       "    </tr>\n",
       "    <tr>\n",
       "      <td>25%</td>\n",
       "      <td>7.838837</td>\n",
       "      <td>9.418976</td>\n",
       "      <td>-1.864907</td>\n",
       "    </tr>\n",
       "    <tr>\n",
       "      <td>50%</td>\n",
       "      <td>9.032767</td>\n",
       "      <td>10.013649</td>\n",
       "      <td>-0.879025</td>\n",
       "    </tr>\n",
       "    <tr>\n",
       "      <td>75%</td>\n",
       "      <td>10.080278</td>\n",
       "      <td>10.605985</td>\n",
       "      <td>-0.109080</td>\n",
       "    </tr>\n",
       "    <tr>\n",
       "      <td>max</td>\n",
       "      <td>11.290981</td>\n",
       "      <td>11.701494</td>\n",
       "      <td>0.959055</td>\n",
       "    </tr>\n",
       "  </tbody>\n",
       "</table>\n",
       "</div>"
      ],
      "text/plain": [
       "               Lm          Lb           C\n",
       "count  108.000000  108.000000  108.000000\n",
       "mean     8.877459    9.952202   -1.074743\n",
       "std      1.458685    0.833088    1.174866\n",
       "min      4.905275    7.865188   -5.015365\n",
       "25%      7.838837    9.418976   -1.864907\n",
       "50%      9.032767   10.013649   -0.879025\n",
       "75%     10.080278   10.605985   -0.109080\n",
       "max     11.290981   11.701494    0.959055"
      ]
     },
     "execution_count": 193,
     "metadata": {},
     "output_type": "execute_result"
    }
   ],
   "source": [
    "dft.describe()"
   ]
  },
  {
   "cell_type": "code",
   "execution_count": 195,
   "metadata": {},
   "outputs": [
    {
     "data": {
      "image/png": "[encoded data removed]",
      "text/plain": [
       "<Figure size 720x432 with 3 Axes>"
      ]
     },
     "metadata": {
      "needs_background": "light"
     },
     "output_type": "display_data"
    }
   ],
   "source": [
    "fig, (ax1 , ax2, ax3) = plt.subplots(3)\n",
    "\n",
    "ax1.hist(dft['Lm'], label = 'Lm')\n",
    "ax2.hist(dft['Lb'], label = 'Lb')\n",
    "ax3.hist(dft['C'], label = 'C')\n",
    "ax1.legend()\n",
    "ax2.legend()\n",
    "ax3.legend()\n",
    "\n",
    "plt.show()\n"
   ]
  },
  {
   "cell_type": "code",
   "execution_count": 197,
   "metadata": {},
   "outputs": [
    {
     "data": {
      "text/plain": [
       "array([-0.40410378, -0.26270987, -0.77535762])"
      ]
     },
     "execution_count": 197,
     "metadata": {},
     "output_type": "execute_result"
    }
   ],
   "source": [
    "tskew = stats.skew(dft.loc[:,('Lm', 'Lb', 'C')] )\n",
    "tskew"
   ]
  },
  {
   "cell_type": "code",
   "execution_count": 202,
   "metadata": {},
   "outputs": [
    {
     "data": {
      "text/plain": [
       "array([-0.40410378, -0.26270987, -0.77535762])"
      ]
     },
     "execution_count": 202,
     "metadata": {},
     "output_type": "execute_result"
    }
   ],
   "source": [
    "tkurt = stats.skew(dft.loc[:, ('Lm', 'Lb', 'C')])\n",
    "tkurt"
   ]
  },
  {
   "cell_type": "code",
   "execution_count": 214,
   "metadata": {},
   "outputs": [
    {
     "data": {
      "image/png": "[encoded data removed]",
      "text/plain": [
       "<Figure size 720x432 with 1 Axes>"
      ]
     },
     "metadata": {
      "needs_background": "light"
     },
     "output_type": "display_data"
    },
    {
     "data": {
      "image/png": "[encoded data removed]",
      "text/plain": [
       "<Figure size 720x432 with 1 Axes>"
      ]
     },
     "metadata": {
      "needs_background": "light"
     },
     "output_type": "display_data"
    },
    {
     "data": {
      "image/png": "[encoded data removed]",
      "text/plain": [
       "<Figure size 720x432 with 1 Axes>"
      ]
     },
     "metadata": {
      "needs_background": "light"
     },
     "output_type": "display_data"
    }
   ],
   "source": [
    "\n",
    "\n",
    "qqplot(dft.loc[:,'Lm'], line='s')\n",
    "qqplot(dft.loc[:,'Lb'], line='s')\n",
    "qqplot(dft.loc[:,'C'], line='s')\n",
    "\n",
    "plt.show()\n",
    "\n"
   ]
  },
  {
   "cell_type": "markdown",
   "metadata": {},
   "source": [
    "# Chi Squared ($\\chi^2$) Goodness of Fit\n",
    "\n",
    "The $\\chi^2$ goodness of fit is used to determine how well the data fit a normal distribution. Note that a p < 0.05 means that the compared distributions ARE different. In this case comparing the sample distribution to the normal distribution."
   ]
  },
  {
   "cell_type": "code",
   "execution_count": 215,
   "metadata": {},
   "outputs": [
    {
     "data": {
      "text/plain": [
       "Power_divergenceResult(statistic=array([  25.64591728,    7.46183857, -137.42185887]), pvalue=array([1., 1., 1.]))"
      ]
     },
     "execution_count": 215,
     "metadata": {},
     "output_type": "execute_result"
    }
   ],
   "source": [
    "chi2 = stats.chisquare(dft.loc[:,('Lm', 'Lb', 'C')])\n",
    "chi2"
   ]
  },
  {
   "cell_type": "markdown",
   "metadata": {},
   "source": [
    "# MANOVA and Post Hoc\n",
    "\n",
    "Here we will conduct a MANOVA for  Coastal Feature Class ('Type 1') and compare the variables L<sub>m</sub>, L<sub>b</sub>, and C."
   ]
  },
  {
   "cell_type": "markdown",
   "metadata": {},
   "source": [
    "At this stage it is faster and safe to run MANOVA in R which I will do."
   ]
  },
  {
   "cell_type": "code",
   "execution_count": 216,
   "metadata": {},
   "outputs": [],
   "source": [
    "dft.to_csv('./DataOutput/LogTidyData.csv')"
   ]
  },
  {
   "cell_type": "code",
   "execution_count": null,
   "metadata": {},
   "outputs": [],
   "source": []
  }
 ],
 "metadata": {
  "kernelspec": {
   "display_name": "Python 3",
   "language": "python",
   "name": "python3"
  },
  "language_info": {
   "codemirror_mode": {
    "name": "ipython",
    "version": 3
   },
   "file_extension": ".py",
   "mimetype": "text/x-python",
   "name": "python",
   "nbconvert_exporter": "python",
   "pygments_lexer": "ipython3",
   "version": "3.7.4"
  }
 },
 "nbformat": 4,
 "nbformat_minor": 4
}
